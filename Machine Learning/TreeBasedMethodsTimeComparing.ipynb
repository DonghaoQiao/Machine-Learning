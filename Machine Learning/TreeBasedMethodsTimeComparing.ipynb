{
 "cells": [
  {
   "cell_type": "code",
   "execution_count": 1,
   "metadata": {},
   "outputs": [],
   "source": [
    "# import packages\n",
    "import warnings\n",
    "warnings.filterwarnings('ignore')\n",
    "\n",
    "import numpy as np\n",
    "import pandas as pd\n",
    "\n",
    "from sklearn import datasets\n",
    "from sklearn.model_selection import train_test_split\n",
    "from sklearn.metrics import accuracy_score\n",
    "from sklearn.metrics import precision_score\n",
    "from sklearn.metrics import recall_score\n",
    "\n",
    "import time"
   ]
  },
  {
   "cell_type": "code",
   "execution_count": 2,
   "metadata": {},
   "outputs": [],
   "source": [
    "# load iris data\n",
    "iris = datasets.load_iris()\n",
    "names=['Sepal_Length', 'Sepal_Width', 'Petal_Length', 'Petal_Width']\n",
    "x = pd.DataFrame(iris.data,columns=names)\n",
    "y = pd.DataFrame(iris.target,columns=['label'])"
   ]
  },
  {
   "cell_type": "code",
   "execution_count": 3,
   "metadata": {},
   "outputs": [],
   "source": [
    "train_x,test_x,train_y,test_y = train_test_split(x,y, test_size=0.2)"
   ]
  },
  {
   "cell_type": "code",
   "execution_count": 4,
   "metadata": {},
   "outputs": [],
   "source": [
    "# Write a function to analyze the result\n",
    "def print_report(test_y,pred_y):\n",
    "    print('Accuracy: %.4f' %accuracy_score(test_y, pred_y))\n",
    "    print('Precision: %.4f' %precision_score(test_y, pred_y, average='macro'))\n",
    "    print('Recall: %.4f' %recall_score(test_y, pred_y, average='macro'))\n",
    "    print()"
   ]
  },
  {
   "cell_type": "markdown",
   "metadata": {},
   "source": [
    "Decision Tree  \n",
    "Random Forest  \n",
    "AdaBoost  \n",
    "XGBoost  \n",
    "LightGBM  \n",
    "CatBoost"
   ]
  },
  {
   "cell_type": "markdown",
   "metadata": {},
   "source": [
    "### Decision Tree"
   ]
  },
  {
   "cell_type": "code",
   "execution_count": 5,
   "metadata": {},
   "outputs": [],
   "source": [
    "from sklearn.tree import DecisionTreeClassifier"
   ]
  },
  {
   "cell_type": "code",
   "execution_count": 6,
   "metadata": {},
   "outputs": [
    {
     "data": {
      "text/plain": [
       "0.0063631534576416016"
      ]
     },
     "execution_count": 6,
     "metadata": {},
     "output_type": "execute_result"
    }
   ],
   "source": [
    "start=time.time()\n",
    "model_DT = DecisionTreeClassifier(max_depth=5)\n",
    "model_DT.fit(train_x, train_y)\n",
    "pred_y_DT_train = model_DT.predict(train_x)\n",
    "pred_y_DT_test = model_DT.predict(test_x)\n",
    "stop=time.time()\n",
    "stop-start"
   ]
  },
  {
   "cell_type": "code",
   "execution_count": 7,
   "metadata": {},
   "outputs": [
    {
     "name": "stdout",
     "output_type": "stream",
     "text": [
      "Train: \n",
      "Accuracy: 0.9917\n",
      "Precision: 0.9924\n",
      "Recall: 0.9905\n",
      "\n",
      "Test:\n",
      "Accuracy: 0.9667\n",
      "Precision: 0.9583\n",
      "Recall: 0.9778\n",
      "\n"
     ]
    }
   ],
   "source": [
    "print('Train: ')\n",
    "print_report(train_y, pred_y_DT_train)\n",
    "print('Test:')\n",
    "print_report(test_y, pred_y_DT_test)"
   ]
  },
  {
   "cell_type": "markdown",
   "metadata": {},
   "source": [
    "### Random Forest"
   ]
  },
  {
   "cell_type": "code",
   "execution_count": 8,
   "metadata": {},
   "outputs": [],
   "source": [
    "from sklearn.ensemble import RandomForestClassifier"
   ]
  },
  {
   "cell_type": "code",
   "execution_count": 9,
   "metadata": {},
   "outputs": [
    {
     "data": {
      "text/plain": [
       "0.21858572959899902"
      ]
     },
     "execution_count": 9,
     "metadata": {},
     "output_type": "execute_result"
    }
   ],
   "source": [
    "start=time.time()\n",
    "model_RF = RandomForestClassifier(max_depth=5,n_estimators=100)\n",
    "model_RF.fit(train_x, train_y)\n",
    "pred_y_RF_train = model_RF.predict(train_x)\n",
    "pred_y_RF_test = model_RF.predict(test_x)\n",
    "stop=time.time()\n",
    "stop-start"
   ]
  },
  {
   "cell_type": "code",
   "execution_count": 10,
   "metadata": {},
   "outputs": [
    {
     "name": "stdout",
     "output_type": "stream",
     "text": [
      "Train: \n",
      "Accuracy: 1.0000\n",
      "Precision: 1.0000\n",
      "Recall: 1.0000\n",
      "\n",
      "Test: \n",
      "Accuracy: 0.9667\n",
      "Precision: 0.9583\n",
      "Recall: 0.9778\n",
      "\n"
     ]
    }
   ],
   "source": [
    "print('Train: ')\n",
    "print_report(train_y, pred_y_RF_train)\n",
    "print('Test: ')\n",
    "print_report(test_y, pred_y_RF_test)"
   ]
  },
  {
   "cell_type": "markdown",
   "metadata": {},
   "source": [
    "### AdaBoost"
   ]
  },
  {
   "cell_type": "code",
   "execution_count": 11,
   "metadata": {},
   "outputs": [],
   "source": [
    "from sklearn.ensemble import AdaBoostClassifier"
   ]
  },
  {
   "cell_type": "code",
   "execution_count": 12,
   "metadata": {},
   "outputs": [
    {
     "data": {
      "text/plain": [
       "0.2391219139099121"
      ]
     },
     "execution_count": 12,
     "metadata": {},
     "output_type": "execute_result"
    }
   ],
   "source": [
    "start=time.time()\n",
    "model_Ada = AdaBoostClassifier(learning_rate=0.1,n_estimators=100)\n",
    "model_Ada.fit(train_x, train_y)\n",
    "pred_y_Ada_train = model_Ada.predict(train_x)\n",
    "pred_y_Ada_test = model_Ada.predict(test_x)\n",
    "stop=time.time()\n",
    "stop-start"
   ]
  },
  {
   "cell_type": "code",
   "execution_count": 13,
   "metadata": {},
   "outputs": [
    {
     "name": "stdout",
     "output_type": "stream",
     "text": [
      "Train: \n",
      "Accuracy: 0.9417\n",
      "Precision: 0.9472\n",
      "Recall: 0.9351\n",
      "\n",
      "Test: \n",
      "Accuracy: 0.8667\n",
      "Precision: 0.8788\n",
      "Recall: 0.9111\n",
      "\n"
     ]
    }
   ],
   "source": [
    "print('Train: ')\n",
    "print_report(train_y, pred_y_Ada_train)\n",
    "print('Test: ')\n",
    "print_report(test_y, pred_y_Ada_test)"
   ]
  },
  {
   "cell_type": "markdown",
   "metadata": {},
   "source": [
    "### Gradient Boosting"
   ]
  },
  {
   "cell_type": "code",
   "execution_count": 14,
   "metadata": {},
   "outputs": [],
   "source": [
    "from sklearn.ensemble import GradientBoostingClassifier"
   ]
  },
  {
   "cell_type": "code",
   "execution_count": 15,
   "metadata": {},
   "outputs": [
    {
     "data": {
      "text/plain": [
       "0.24552297592163086"
      ]
     },
     "execution_count": 15,
     "metadata": {},
     "output_type": "execute_result"
    }
   ],
   "source": [
    "start=time.time()\n",
    "model_GB = GradientBoostingClassifier(learning_rate=0.1, max_depth=5)\n",
    "model_GB.fit(train_x, train_y)\n",
    "pred_y_GB_train = model_GB.predict(train_x)\n",
    "pred_y_GB_test = model_GB.predict(test_x)\n",
    "stop=time.time()\n",
    "stop-start"
   ]
  },
  {
   "cell_type": "code",
   "execution_count": 16,
   "metadata": {},
   "outputs": [
    {
     "name": "stdout",
     "output_type": "stream",
     "text": [
      "Train: \n",
      "Accuracy: 1.0000\n",
      "Precision: 1.0000\n",
      "Recall: 1.0000\n",
      "\n",
      "Test: \n",
      "Accuracy: 0.9667\n",
      "Precision: 0.9583\n",
      "Recall: 0.9778\n",
      "\n"
     ]
    }
   ],
   "source": [
    "print('Train: ')\n",
    "print_report(train_y, pred_y_GB_train)\n",
    "print('Test: ')\n",
    "print_report(test_y, pred_y_GB_test)"
   ]
  },
  {
   "cell_type": "markdown",
   "metadata": {},
   "source": [
    "### XGBoost"
   ]
  },
  {
   "cell_type": "code",
   "execution_count": 17,
   "metadata": {},
   "outputs": [],
   "source": [
    "from xgboost import XGBClassifier"
   ]
  },
  {
   "cell_type": "code",
   "execution_count": 18,
   "metadata": {},
   "outputs": [
    {
     "data": {
      "text/plain": [
       "0.041580915451049805"
      ]
     },
     "execution_count": 18,
     "metadata": {},
     "output_type": "execute_result"
    }
   ],
   "source": [
    "start=time.time()\n",
    "model_XGB = XGBClassifier(learning_rate=0.1,max_depth=5)\n",
    "model_XGB.fit(train_x, train_y)\n",
    "pred_y_XGB_train = model_XGB.predict(train_x)\n",
    "pred_y_XGB_test = model_XGB.predict(test_x)\n",
    "stop=time.time()\n",
    "stop-start"
   ]
  },
  {
   "cell_type": "code",
   "execution_count": 19,
   "metadata": {},
   "outputs": [
    {
     "name": "stdout",
     "output_type": "stream",
     "text": [
      "Train: \n",
      "Accuracy: 1.0000\n",
      "Precision: 1.0000\n",
      "Recall: 1.0000\n",
      "\n",
      "Test: \n",
      "Accuracy: 0.9667\n",
      "Precision: 0.9583\n",
      "Recall: 0.9778\n",
      "\n"
     ]
    }
   ],
   "source": [
    "print('Train: ')\n",
    "print_report(train_y, pred_y_XGB_train)\n",
    "print('Test: ')\n",
    "print_report(test_y, pred_y_XGB_test)"
   ]
  },
  {
   "cell_type": "markdown",
   "metadata": {},
   "source": [
    "### XGBoost-Booster"
   ]
  },
  {
   "cell_type": "code",
   "execution_count": 20,
   "metadata": {},
   "outputs": [],
   "source": [
    "import xgboost"
   ]
  },
  {
   "cell_type": "code",
   "execution_count": 21,
   "metadata": {},
   "outputs": [
    {
     "data": {
      "text/plain": [
       "0.007626056671142578"
      ]
     },
     "execution_count": 21,
     "metadata": {},
     "output_type": "execute_result"
    }
   ],
   "source": [
    "start=time.time()\n",
    "dtrain=xgboost.DMatrix(train_x,label=train_y)\n",
    "dtest=xgboost.DMatrix(test_x)\n",
    "params={'num_class':3,\n",
    "        'eta':0.1,\n",
    "        'objective':'multi:softmax',\n",
    "        'max_depth':5,\n",
    "        'num_round':100}\n",
    "model_XGBooster=xgboost.train(params,dtrain)\n",
    "pred_y_XGBooster_train = model_XGBooster.predict(dtrain)\n",
    "pred_y_XGBooster_test = model_XGBooster.predict(dtest)\n",
    "stop=time.time()\n",
    "stop-start"
   ]
  },
  {
   "cell_type": "code",
   "execution_count": 22,
   "metadata": {},
   "outputs": [
    {
     "name": "stdout",
     "output_type": "stream",
     "text": [
      "Train: \n",
      "Accuracy: 0.9750\n",
      "Precision: 0.9737\n",
      "Recall: 0.9767\n",
      "\n",
      "Test: \n",
      "Accuracy: 1.0000\n",
      "Precision: 1.0000\n",
      "Recall: 1.0000\n",
      "\n"
     ]
    }
   ],
   "source": [
    "print('Train: ')\n",
    "print_report(train_y, pred_y_XGBooster_train)\n",
    "print('Test: ')\n",
    "print_report(test_y, pred_y_XGBooster_test)"
   ]
  },
  {
   "cell_type": "markdown",
   "metadata": {},
   "source": [
    "### LightGBM"
   ]
  },
  {
   "cell_type": "code",
   "execution_count": 23,
   "metadata": {},
   "outputs": [],
   "source": [
    "from lightgbm import LGBMClassifier"
   ]
  },
  {
   "cell_type": "code",
   "execution_count": 24,
   "metadata": {
    "scrolled": true
   },
   "outputs": [
    {
     "data": {
      "text/plain": [
       "0.05721592903137207"
      ]
     },
     "execution_count": 24,
     "metadata": {},
     "output_type": "execute_result"
    }
   ],
   "source": [
    "start=time.time()\n",
    "model_LGB = LGBMClassifier(learning_rate=0.1,max_depth=5)\n",
    "model_LGB.fit(train_x, train_y)\n",
    "pred_y_LGB_train = model_LGB.predict(train_x)\n",
    "pred_y_LGB_test = model_LGB.predict(test_x)\n",
    "stop=time.time()\n",
    "stop-start"
   ]
  },
  {
   "cell_type": "code",
   "execution_count": 25,
   "metadata": {},
   "outputs": [
    {
     "name": "stdout",
     "output_type": "stream",
     "text": [
      "Train: \n",
      "Accuracy: 1.0000\n",
      "Precision: 1.0000\n",
      "Recall: 1.0000\n",
      "\n",
      "Test: \n",
      "Accuracy: 0.9000\n",
      "Precision: 0.9000\n",
      "Recall: 0.9333\n",
      "\n"
     ]
    }
   ],
   "source": [
    "print('Train: ')\n",
    "print_report(train_y, pred_y_LGB_train)\n",
    "print('Test: ')\n",
    "print_report(test_y, pred_y_LGB_test)"
   ]
  },
  {
   "cell_type": "markdown",
   "metadata": {},
   "source": [
    "### LightBooster"
   ]
  },
  {
   "cell_type": "code",
   "execution_count": 26,
   "metadata": {},
   "outputs": [],
   "source": [
    "import lightgbm\n",
    "import numpy as np"
   ]
  },
  {
   "cell_type": "code",
   "execution_count": 27,
   "metadata": {},
   "outputs": [
    {
     "data": {
      "text/plain": [
       "0.05940699577331543"
      ]
     },
     "execution_count": 27,
     "metadata": {},
     "output_type": "execute_result"
    }
   ],
   "source": [
    "start=time.time()\n",
    "ltrain = lightgbm.Dataset(train_x,label=train_y)\n",
    "params={'num_class':3,\n",
    "        'eta':0.1,\n",
    "        'objective':'multiclass',\n",
    "        'max_depth':5,\n",
    "        'num_round':100}\n",
    "model_LGBM=lightgbm.train(params,ltrain)\n",
    "pred_y_LGBM_train = np.argmax(model_LGBM.predict(train_x),axis=1)\n",
    "pred_y_LGBM_test = np.argmax(model_LGBM.predict(test_x),axis=1)\n",
    "stop=time.time()\n",
    "stop-start"
   ]
  },
  {
   "cell_type": "code",
   "execution_count": 28,
   "metadata": {
    "scrolled": true
   },
   "outputs": [
    {
     "name": "stdout",
     "output_type": "stream",
     "text": [
      "Train: \n",
      "Accuracy: 1.0000\n",
      "Precision: 1.0000\n",
      "Recall: 1.0000\n",
      "\n",
      "Test: \n",
      "Accuracy: 0.9000\n",
      "Precision: 0.9000\n",
      "Recall: 0.9333\n",
      "\n"
     ]
    }
   ],
   "source": [
    "print('Train: ')\n",
    "print_report(train_y, pred_y_LGBM_train)\n",
    "print('Test: ')\n",
    "print_report(test_y, pred_y_LGBM_test)"
   ]
  },
  {
   "cell_type": "markdown",
   "metadata": {},
   "source": [
    "### CatBoost"
   ]
  },
  {
   "cell_type": "code",
   "execution_count": 29,
   "metadata": {},
   "outputs": [],
   "source": [
    "from catboost import CatBoostClassifier"
   ]
  },
  {
   "cell_type": "code",
   "execution_count": 30,
   "metadata": {},
   "outputs": [
    {
     "data": {
      "text/plain": [
       "0.3189671039581299"
      ]
     },
     "execution_count": 30,
     "metadata": {},
     "output_type": "execute_result"
    }
   ],
   "source": [
    "start=time.time()\n",
    "model_Cat = CatBoostClassifier(learning_rate=0.1,depth=5,iterations=100,verbose=False)\n",
    "model_Cat.fit(train_x, train_y)\n",
    "pred_y_Cat_train = model_Cat.predict(train_x)\n",
    "pred_y_Cat_test = model_Cat.predict(test_x)\n",
    "stop=time.time()\n",
    "stop-start"
   ]
  },
  {
   "cell_type": "code",
   "execution_count": 31,
   "metadata": {},
   "outputs": [
    {
     "name": "stdout",
     "output_type": "stream",
     "text": [
      "Train: \n",
      "Accuracy: 0.7917\n",
      "Precision: 0.7886\n",
      "Recall: 0.7835\n",
      "\n",
      "Test: \n",
      "Accuracy: 0.2667\n",
      "Precision: 0.2542\n",
      "Recall: 0.3258\n",
      "\n"
     ]
    }
   ],
   "source": [
    "print('Train: ')\n",
    "print_report(train_y, pred_y_Cat_train)\n",
    "print('Test: ')\n",
    "print_report(test_y, pred_y_Cat_test)"
   ]
  },
  {
   "cell_type": "code",
   "execution_count": null,
   "metadata": {},
   "outputs": [],
   "source": []
  }
 ],
 "metadata": {
  "kernelspec": {
   "display_name": "Python 3",
   "language": "python",
   "name": "python3"
  },
  "language_info": {
   "codemirror_mode": {
    "name": "ipython",
    "version": 3
   },
   "file_extension": ".py",
   "mimetype": "text/x-python",
   "name": "python",
   "nbconvert_exporter": "python",
   "pygments_lexer": "ipython3",
   "version": "3.7.4"
  }
 },
 "nbformat": 4,
 "nbformat_minor": 2
}
